{
 "cells": [
  {
   "cell_type": "code",
   "execution_count": 12,
   "metadata": {},
   "outputs": [],
   "source": [
    "import pandas as pd\n",
    "import os\n",
    "import re\n",
    "import tarfile"
   ]
  },
  {
   "cell_type": "markdown",
   "metadata": {},
   "source": [
    "### File Prep - Skip if Already Run "
   ]
  },
  {
   "cell_type": "code",
   "execution_count": 14,
   "metadata": {},
   "outputs": [],
   "source": [
    "tar_path = './data/UNGDC_1946-2023.tgz'\n",
    "extract_path = './data/UNGDC_1946-2023/'\n",
    "\n",
    "with tarfile.open(tar_path, 'r:gz') as tar:\n",
    "    tar.extractall(path=extract_path)"
   ]
  },
  {
   "cell_type": "markdown",
   "metadata": {},
   "source": [
    "### Data Import and Notebook Setup"
   ]
  },
  {
   "cell_type": "code",
   "execution_count": null,
   "metadata": {},
   "outputs": [
    {
     "name": "stderr",
     "output_type": "stream",
     "text": [
      "C:\\Users\\maxla\\AppData\\Local\\Temp\\ipykernel_48352\\952016332.py:1: DtypeWarning: Columns (364,365,366,399,415,804,836,837,924,1240,1257,1486,3094,3168,3169,3341,3342,3344,3345,3347,3350,3352) have mixed types. Specify dtype option on import or set low_memory=False.\n",
      "  vdem_df = pd.read_csv('./data/V-Dem-CY-Full+Others-v14.csv')\n"
     ]
    }
   ],
   "source": [
    "vdem_df = pd.read_csv('./data/V-Dem-CY-Full+Others-v14.csv')"
   ]
  },
  {
   "cell_type": "code",
   "execution_count": 7,
   "metadata": {},
   "outputs": [
    {
     "name": "stdout",
     "output_type": "stream",
     "text": [
      "  country_name country_text_id  country_id  year historical_date  project  \\\n",
      "0       Mexico             MEX           3  1789      1789-12-31        1   \n",
      "1       Mexico             MEX           3  1790      1790-12-31        1   \n",
      "2       Mexico             MEX           3  1791      1791-12-31        1   \n",
      "3       Mexico             MEX           3  1792      1792-12-31        1   \n",
      "4       Mexico             MEX           3  1793      1793-12-31        1   \n",
      "\n",
      "   historical                  histname  codingstart  codingend  ...  \\\n",
      "0           1  Viceroyalty of New Spain         1789       2023  ...   \n",
      "1           1  Viceroyalty of New Spain         1789       2023  ...   \n",
      "2           1  Viceroyalty of New Spain         1789       2023  ...   \n",
      "3           1  Viceroyalty of New Spain         1789       2023  ...   \n",
      "4           1  Viceroyalty of New Spain         1789       2023  ...   \n",
      "\n",
      "   e_mipopula  e_miurbani  e_pefeliex  e_wb_pop  e_pechmor  e_miinteco  \\\n",
      "0         NaN         NaN         NaN       NaN        NaN         0.0   \n",
      "1         NaN         NaN         NaN       NaN        NaN         0.0   \n",
      "2         NaN         NaN         NaN       NaN        NaN         0.0   \n",
      "3         NaN         NaN         NaN       NaN        NaN         0.0   \n",
      "4         NaN         NaN         NaN       NaN        NaN         0.0   \n",
      "\n",
      "   e_civil_war  e_miinterc  e_pt_coup  e_pt_coup_attempts  \n",
      "0          NaN         0.0        NaN                 NaN  \n",
      "1          NaN         0.0        NaN                 NaN  \n",
      "2          NaN         0.0        NaN                 NaN  \n",
      "3          NaN         0.0        NaN                 NaN  \n",
      "4          NaN         0.0        NaN                 NaN  \n",
      "\n",
      "[5 rows x 4607 columns]\n",
      "<class 'pandas.core.frame.DataFrame'>\n",
      "RangeIndex: 27734 entries, 0 to 27733\n",
      "Columns: 4607 entries, country_name to e_pt_coup_attempts\n",
      "dtypes: float64(4561), int64(17), object(29)\n",
      "memory usage: 974.8+ MB\n",
      "None\n"
     ]
    }
   ],
   "source": [
    "print(vdem_df.head())\n",
    "print(vdem_df.info())"
   ]
  },
  {
   "cell_type": "code",
   "execution_count": null,
   "metadata": {},
   "outputs": [
    {
     "name": "stdout",
     "output_type": "stream",
     "text": [
      "  Country  Session  Year                                               Text  \\\n",
      "0     ARG        1  1946  At the resumption of the first session of the ...   \n",
      "1     AUS        1  1946  The General Assembly of the United Nations is ...   \n",
      "2     BEL        1  1946  The\\tprincipal organs of the United Nations ha...   \n",
      "3     BLR        1  1946  As more than a year has elapsed since the Unit...   \n",
      "4     BOL        1  1946  Coming to this platform where so many distingu...   \n",
      "\n",
      "                                            FilePath  \n",
      "0  ./data/UNGDC_1946-2023/TXT\\Session 01 - 1946\\A...  \n",
      "1  ./data/UNGDC_1946-2023/TXT\\Session 01 - 1946\\A...  \n",
      "2  ./data/UNGDC_1946-2023/TXT\\Session 01 - 1946\\B...  \n",
      "3  ./data/UNGDC_1946-2023/TXT\\Session 01 - 1946\\B...  \n",
      "4  ./data/UNGDC_1946-2023/TXT\\Session 01 - 1946\\B...  \n"
     ]
    }
   ],
   "source": [
    "base_dir = './data/UNGDC_1946-2023/TXT'\n",
    "\n",
    "speeches = []\n",
    "\n",
    "# Walk through all subdirectories\n",
    "for root, dirs, files in os.walk(base_dir):\n",
    "    for file in files:\n",
    "        # Process only .txt files\n",
    "        if file.endswith('.txt'):\n",
    "            # The expected naming pattern is: COUNTRY_SESSION_YEAR.txt\n",
    "            # e.g., USA_75_2020.txt\n",
    "            match = re.match(r\"([A-Z]{3})_(\\d{1,3})_(\\d{4})\\.txt\", file)\n",
    "            if match:\n",
    "                country, session, year = match.groups()\n",
    "            else:\n",
    "                # If the file name doesn't match the expected pattern, skip it.\n",
    "                continue\n",
    "\n",
    "            # Build the full file path and read the content.\n",
    "            file_path = os.path.join(root, file)\n",
    "            try:\n",
    "                with open(file_path, 'r', encoding='utf-8') as f:\n",
    "                    text = f.read()\n",
    "            except UnicodeDecodeError as e:\n",
    "                # If you run into decoding issues, you might use errors='replace' or try a different encoding.\n",
    "                print(f\"Decoding error in {file_path}: {e}\")\n",
    "                continue\n",
    "\n",
    "            speeches.append({\n",
    "                'Country': country,\n",
    "                'Session': int(session),\n",
    "                'Year': int(year),\n",
    "                'Text': text,\n",
    "            })\n",
    "\n",
    "# Create a DataFrame from the list\n",
    "df_speeches = pd.DataFrame(speeches)\n",
    "print(df_speeches.head())"
   ]
  },
  {
   "cell_type": "code",
   "execution_count": null,
   "metadata": {},
   "outputs": [],
   "source": []
  }
 ],
 "metadata": {
  "kernelspec": {
   "display_name": "venv",
   "language": "python",
   "name": "python3"
  },
  "language_info": {
   "codemirror_mode": {
    "name": "ipython",
    "version": 3
   },
   "file_extension": ".py",
   "mimetype": "text/x-python",
   "name": "python",
   "nbconvert_exporter": "python",
   "pygments_lexer": "ipython3",
   "version": "3.12.3"
  }
 },
 "nbformat": 4,
 "nbformat_minor": 2
}
